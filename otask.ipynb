{
 "cells": [
  {
   "cell_type": "markdown",
   "metadata": {},
   "source": [
    "# Import the required packages and libraries"
   ]
  },
  {
   "cell_type": "code",
   "execution_count": 1,
   "metadata": {},
   "outputs": [
    {
     "name": "stderr",
     "output_type": "stream",
     "text": [
      "Using TensorFlow backend.\n"
     ]
    }
   ],
   "source": [
    "import pickle\n",
    "import pandas as pd\n",
    "import seaborn as sns\n",
    "from keras.models import Sequential\n",
    "from keras.layers import Dense\n",
    "from keras.wrappers.scikit_learn import KerasClassifier\n",
    "from keras.utils import np_utils\n",
    "from sklearn.model_selection import cross_val_score\n",
    "from sklearn.model_selection import KFold\n",
    "from sklearn.preprocessing import LabelEncoder\n",
    "from sklearn.pipeline import Pipeline\n",
    "from sklearn.metrics import confusion_matrix\n",
    "from sklearn.model_selection import cross_val_score\n",
    "import numpy as np\n",
    "import matplotlib.pyplot as plt\n",
    "from sklearn.model_selection import train_test_split\n",
    "import keras \n",
    "from sklearn.ensemble import RandomForestClassifier\n",
    "from sklearn.metrics import accuracy_score"
   ]
  },
  {
   "cell_type": "markdown",
   "metadata": {},
   "source": [
    "# Read data"
   ]
  },
  {
   "cell_type": "code",
   "execution_count": 2,
   "metadata": {},
   "outputs": [],
   "source": [
    "data = pd.read_pickle(r'C:\\Users\\Waseem\\Desktop\\Orikami\\final_exampleProject.pkl')"
   ]
  },
  {
   "cell_type": "markdown",
   "metadata": {},
   "source": [
    "# Data analysis"
   ]
  },
  {
   "cell_type": "code",
   "execution_count": 3,
   "metadata": {
    "collapsed": true
   },
   "outputs": [],
   "source": [
    "# corr = data.corr()\n",
    "# corr.style.background_gradient(cmap='coolwarm').set_precision(2)\n",
    "\n",
    "# Extract features\n",
    "\n",
    "# plt.hist(data.iloc[:, 0], bins=50)\n",
    "# plt.show()"
   ]
  },
  {
   "cell_type": "markdown",
   "metadata": {},
   "source": [
    "# Feature engineering"
   ]
  },
  {
   "cell_type": "code",
   "execution_count": 4,
   "metadata": {},
   "outputs": [],
   "source": [
    "def extract_features(df, col_names, name, group_size):\n",
    "    \n",
    "    winsize = 10\n",
    "    numwin = round(group_size/winsize)\n",
    "    start = 0\n",
    "    ax_mean, ay_mean, az_mean, gx_mean, gy_mean, gz_mean, ax_std, ay_std, az_std, gx_std, gy_std, gz_std = [], [], [], [], [], [], [], [], [], [], [], []\n",
    "    tdata = []\n",
    "    labels = []\n",
    "    for i in range(numwin):\n",
    "        \n",
    "        # mean value feature\n",
    "        ax_mean.append(np.mean(df['acc_x'][start:start+winsize]))\n",
    "        ay_mean.append(np.mean(df['acc_y'][start:start+winsize]))\n",
    "        az_mean.append(np.mean(df['acc_z'][start:start+winsize]))\n",
    "        \n",
    "        gx_mean.append(np.mean(df['gyr_x'][start:start+winsize]))\n",
    "        gy_mean.append(np.mean(df['gyr_y'][start:start+winsize]))\n",
    "        gz_mean.append(np.mean(df['gyr_z'][start:start+winsize]))\n",
    "        \n",
    "        # standard deviation value feature\n",
    "        ax_std.append(np.std(df['acc_x'][start:start+winsize]))\n",
    "        ay_std.append(np.std(df['acc_y'][start:start+winsize]))\n",
    "        az_std.append(np.std(df['acc_z'][start:start+winsize]))\n",
    "        \n",
    "        gx_std.append(np.std(df['gyr_x'][start:start+winsize]))\n",
    "        gy_std.append(np.std(df['gyr_y'][start:start+winsize]))\n",
    "        gz_std.append(np.std(df['gyr_z'][start:start+winsize]))\n",
    "        labels.append(name)\n",
    "        \n",
    "        start = start + winsize\n",
    "        \n",
    "   # Create the pandas DataFrame\n",
    "    tdata.append(ax_mean)\n",
    "    tdata.append(ay_mean)\n",
    "    tdata.append(az_mean)\n",
    "    \n",
    "    tdata.append(gx_mean)\n",
    "    tdata.append(gy_mean)\n",
    "    tdata.append(gz_mean)\n",
    "    \n",
    "    tdata.append(ax_std)\n",
    "    tdata.append(ay_std)\n",
    "    tdata.append(az_std)\n",
    "    \n",
    "    tdata.append(gx_std)\n",
    "    tdata.append(gy_std)\n",
    "    tdata.append(gz_std)\n",
    "    tdata.append(labels)\n",
    "    tdata = np.transpose(tdata)\n",
    "    df = pd.DataFrame(tdata, columns=col_names) \n",
    "    return df\n",
    "    \n",
    "\n",
    "# select data for each category\n",
    "col_names = ['ax_mean', 'ay_mean', 'az_mean',\n",
    "            'gx_mean', 'gy_mean', 'gz_mean',\n",
    "            'ax_std', 'ay_std', 'az_std',\n",
    "            'gx_std', 'gy_std', 'gz_std', 'gait']\n",
    "\n",
    "classes = data.groupby(['gait_type'])\n",
    "newdf = pd.DataFrame(columns=col_names)\n",
    "class_names = []\n",
    "for name, group in classes:\n",
    "    class_names.append(name)\n",
    "    grp = classes.get_group(str(name))\n",
    "    df = extract_features(grp, col_names, name, group.shape[0])\n",
    "    frames = [newdf, df]\n",
    "    newdf = pd.concat(frames)"
   ]
  },
  {
   "cell_type": "markdown",
   "metadata": {},
   "source": [
    "# Split data into train, test sets"
   ]
  },
  {
   "cell_type": "code",
   "execution_count": 5,
   "metadata": {},
   "outputs": [
    {
     "name": "stderr",
     "output_type": "stream",
     "text": [
      "C:\\Users\\Waseem\\Anaconda3\\lib\\site-packages\\sklearn\\preprocessing\\label.py:95: DataConversionWarning: A column-vector y was passed when a 1d array was expected. Please change the shape of y to (n_samples, ), for example using ravel().\n",
      "  y = column_or_1d(y, warn=True)\n",
      "C:\\Users\\Waseem\\Anaconda3\\lib\\site-packages\\sklearn\\preprocessing\\label.py:128: DataConversionWarning: A column-vector y was passed when a 1d array was expected. Please change the shape of y to (n_samples, ), for example using ravel().\n",
      "  y = column_or_1d(y, warn=True)\n"
     ]
    }
   ],
   "source": [
    "target = pd.DataFrame(newdf['gait'])\n",
    "data = newdf.drop(['gait'], axis=1)\n",
    "\n",
    "# encode class values as integers\n",
    "encoder = LabelEncoder()\n",
    "encoder.fit(target)\n",
    "encoded_Y = encoder.transform(target)\n",
    "# convert integers to dummy variables (i.e. one hot encoded)\n",
    "dummy_y = np_utils.to_categorical(encoded_Y)\n",
    "\n",
    "X_train, X_test, y_train, y_test = train_test_split(data, dummy_y, test_size=0.33, random_state=0)"
   ]
  },
  {
   "cell_type": "markdown",
   "metadata": {},
   "source": [
    "# Define, train and evaluate deep learning model"
   ]
  },
  {
   "cell_type": "code",
   "execution_count": 6,
   "metadata": {
    "collapsed": true
   },
   "outputs": [
    {
     "name": "stdout",
     "output_type": "stream",
     "text": [
      "WARNING:tensorflow:From C:\\Users\\Waseem\\Anaconda3\\lib\\site-packages\\tensorflow\\python\\framework\\op_def_library.py:263: colocate_with (from tensorflow.python.framework.ops) is deprecated and will be removed in a future version.\n",
      "Instructions for updating:\n",
      "Colocations handled automatically by placer.\n",
      "WARNING:tensorflow:From C:\\Users\\Waseem\\Anaconda3\\lib\\site-packages\\tensorflow\\python\\ops\\math_ops.py:3066: to_int32 (from tensorflow.python.ops.math_ops) is deprecated and will be removed in a future version.\n",
      "Instructions for updating:\n",
      "Use tf.cast instead.\n",
      "acc: 97.48%\n",
      "97.48% (+/- 0.00%)\n"
     ]
    }
   ],
   "source": [
    "from sklearn.model_selection import StratifiedKFold\n",
    "\n",
    "seed = 0\n",
    "# define 5-fold cross validation test harness\n",
    "kfold = StratifiedKFold(n_splits=5, shuffle=True, random_state=seed)\n",
    "cvscores = []\n",
    "\n",
    "# create mode\n",
    "model = Sequential()\n",
    "model.add(Dense(12, input_dim=12, activation='relu'))\n",
    "model.add(Dense(7, activation='softmax'))\n",
    "# Compile model\n",
    "model.compile(loss='categorical_crossentropy', optimizer='adam', metrics=['accuracy'])\n",
    "# Compile model\n",
    "model.compile(loss='binary_crossentropy', optimizer='adam', metrics=['accuracy'])\n",
    "# Fit the model\n",
    "model.fit(X_train, y_train, epochs=33, batch_size=10, verbose=0)\n",
    "# evaluate the model\n",
    "scores = model.evaluate(X_test, y_test, verbose=0)\n",
    "print(\"%s: %.2f%%\" % (model.metrics_names[1], scores[1]*100))\n",
    "cvscores.append(scores[1] * 100)\n",
    "print(\"%.2f%% (+/- %.2f%%)\" % (np.mean(cvscores), np.std(cvscores)))"
   ]
  },
  {
   "cell_type": "markdown",
   "metadata": {},
   "source": [
    "# Model predictions"
   ]
  },
  {
   "cell_type": "code",
   "execution_count": 9,
   "metadata": {},
   "outputs": [
    {
     "name": "stdout",
     "output_type": "stream",
     "text": [
      "[1]\n"
     ]
    }
   ],
   "source": [
    "temp = X_test.iloc[0:1]\n",
    "y_pred = model.predict_classes(temp)\n",
    "print(y_pred)\n",
    "with open(r'C:\\Users\\Waseem\\Desktop\\Orikami\\xtest.pkl','wb') as f: \n",
    "    pickle.dump(temp, f)\n",
    "# temp.to_pickle(r'C:\\Users\\Waseem\\Desktop\\Orikami\\xtest.pkl')  # where to save it, usually as a .pkl\n",
    "# with open(r'C:\\Users\\Waseem\\Desktop\\Orikami\\xtest.pkl','rb') as f: \n",
    "#     xt = pd.DataFrame(pickle.load(f)).to_json()\n",
    "# print(xt)"
   ]
  },
  {
   "cell_type": "markdown",
   "metadata": {},
   "source": [
    "# Save the classification model"
   ]
  },
  {
   "cell_type": "code",
   "execution_count": 26,
   "metadata": {},
   "outputs": [],
   "source": [
    "import pickle\n",
    "pickle.dump(model, open(r'C:\\Users\\Waseem\\Desktop\\Orikami\\gait_predictor.pickle', 'wb'))"
   ]
  },
  {
   "cell_type": "markdown",
   "metadata": {},
   "source": [
    "# Flask API"
   ]
  },
  {
   "cell_type": "code",
   "execution_count": 3,
   "metadata": {},
   "outputs": [
    {
     "name": "stdout",
     "output_type": "stream",
     "text": [
      " * Serving Flask app \"__main__\" (lazy loading)\r\n",
      " * Environment: production\r\n",
      "   WARNING: This is a development server. Do not use it in a production deployment.\r\n",
      "   Use a production WSGI server instead.\r\n",
      " * Debug mode: on\r\n"
     ]
    },
    {
     "name": "stderr",
     "output_type": "stream",
     "text": [
      " * Restarting with stat\n"
     ]
    },
    {
     "ename": "SystemExit",
     "evalue": "1",
     "output_type": "error",
     "traceback": [
      "An exception has occurred, use %tb to see the full traceback.\n",
      "\u001b[1;31mSystemExit\u001b[0m\u001b[1;31m:\u001b[0m 1\n"
     ]
    },
    {
     "name": "stderr",
     "output_type": "stream",
     "text": [
      "C:\\Users\\Waseem\\Anaconda3\\lib\\site-packages\\IPython\\core\\interactiveshell.py:2870: UserWarning: To exit: use 'exit', 'quit', or Ctrl-D.\n",
      "  warn(\"To exit: use 'exit', 'quit', or Ctrl-D.\", stacklevel=1)\n"
     ]
    }
   ],
   "source": [
    "from flask import Flask, request, jsonify\n",
    "import numpy as np\n",
    "import pickle as p\n",
    "from keras import backend as K\n",
    "\n",
    "\n",
    "app = Flask(__name__)\n",
    "\n",
    "\n",
    "def load_model():\n",
    "\n",
    "    global model\n",
    "    model = None\n",
    "    # model variable refers to the global variable\n",
    "    with open('gait_predictor.pickle', 'rb') as f:\n",
    "        model = p.load(f)\n",
    "\n",
    "\n",
    "@app.route('/')\n",
    "def home_endpoint():\n",
    "    return 'Hello World!'\n",
    "\n",
    "\n",
    "@app.route('/prediction', methods=['GET', 'POST'])\n",
    "def prediction():\n",
    "\n",
    "    # jdata = request.get_json()\n",
    "    # print('Data at Server:', jdata)\n",
    "    # data = pd.read_json(json.dumps(jdata), orient='records')\n",
    "    # print(\"After conversion: \", data)\n",
    "    load_model()\n",
    "    with open('xtest.pkl', 'rb') as f:\n",
    "        data = p.load(f)\n",
    "    predictions = np.array2string(model.predict_classes(data[0:1]))\n",
    "    K.clear_session()\n",
    "    print(jsonify(predictions))\n",
    "    return jsonify(predictions)\n",
    "\n",
    "app.run(host='0.0.0.0', port=6000, debug=True)\n"
   ]
  },
  {
   "cell_type": "markdown",
   "metadata": {},
   "source": [
    "# Request gait predictions"
   ]
  },
  {
   "cell_type": "code",
   "execution_count": null,
   "metadata": {},
   "outputs": [],
   "source": [
    "import requests\n",
    "import json\n",
    "import pandas as pd\n",
    "import pickle\n",
    "import numpy as np\n",
    "\n",
    "\n",
    "url = 'http://127.0.0.1:5000/prediction'\n",
    "\n",
    "with open(r'C:\\Users\\Waseem\\Desktop\\Orikami\\xtest.pkl', 'rb') as f:\n",
    "     data = pickle.load(f)\n",
    "     data = data.to_json(orient='records')\n",
    "     print(type(data))\n",
    "\n",
    "headers = {'content-type': 'application/json', 'Accept-Charset': 'UTF-8'}\n",
    "r = requests.post(url, data=data, headers=headers)\n",
    "print(r, r.text)"
   ]
  }
 ],
 "metadata": {
  "kernelspec": {
   "display_name": "Python 3",
   "language": "python",
   "name": "python3"
  },
  "language_info": {
   "codemirror_mode": {
    "name": "ipython",
    "version": 3
   },
   "file_extension": ".py",
   "mimetype": "text/x-python",
   "name": "python",
   "nbconvert_exporter": "python",
   "pygments_lexer": "ipython3",
   "version": "3.6.8"
  }
 },
 "nbformat": 4,
 "nbformat_minor": 2
}
